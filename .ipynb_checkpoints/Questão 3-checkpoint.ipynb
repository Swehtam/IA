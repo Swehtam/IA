{
 "cells": [
  {
   "cell_type": "code",
   "execution_count": 1,
   "metadata": {},
   "outputs": [],
   "source": [
    "%matplotlib inline\n",
    "import matplotlib.pyplot as plt\n",
    "import tensorflow as tf\n",
    "from tensorflow import keras\n",
    "import numpy as np\n",
    "import pandas"
   ]
  },
  {
   "cell_type": "code",
   "execution_count": 2,
   "metadata": {},
   "outputs": [],
   "source": [
    "url = \"avila-tr.csv\"\n",
    "names = ['F1','F2','F3','F4','F5','F6','F7','F8','F9','F10','Class']\n",
    "class_names = ['A', 'B', 'C', 'D', 'E', 'F', 'G', 'H', 'I', 'W', 'X', 'Y']\n",
    "dataset = pandas.read_csv(url, names=names)\n",
    "dataset = np.array(dataset.values)"
   ]
  },
  {
   "cell_type": "code",
   "execution_count": 3,
   "metadata": {},
   "outputs": [
    {
     "name": "stdout",
     "output_type": "stream",
     "text": [
      "['A' 'A' 'A' ... 'A' 'E' 'X']\n",
      "[0 0 0 ... 0 4 10]\n"
     ]
    }
   ],
   "source": [
    "print(dataset[:, 10])\n",
    "j = 0\n",
    "dataset_Y = dataset[:, 10]\n",
    "for y in dataset_Y:\n",
    "    for i in range(12):\n",
    "        if(y == class_names[i]):\n",
    "            dataset_Y[j] = i\n",
    "            j += 1\n",
    "dataset[:, 10] = np.array(dataset_Y)\n",
    "print(dataset[:, 10])"
   ]
  },
  {
   "cell_type": "code",
   "execution_count": 4,
   "metadata": {
    "scrolled": false
   },
   "outputs": [
    {
     "data": {
      "image/png": "[encoded data removed]",
      "text/plain": [
       "<Figure size 432x288 with 1 Axes>"
      ]
     },
     "metadata": {
      "needs_background": "light"
     },
     "output_type": "display_data"
    }
   ],
   "source": [
    "fig1, ax1 = plt.subplots()\n",
    "ax1.set_title('Boxplot inicial')\n",
    "ax1.set_xlabel(\"Número dos atributos\")\n",
    "ax1.set_ylabel(\"Valores\")\n",
    "ax1.boxplot(dataset[:, :10], showfliers=True)\n",
    "plt.show()"
   ]
  },
  {
   "cell_type": "code",
   "execution_count": null,
   "metadata": {},
   "outputs": [
    {
     "name": "stdout",
     "output_type": "stream",
     "text": [
      "8344\n"
     ]
    }
   ],
   "source": [
    "train_size = (len(dataset) * 80)//100\n",
    "print(train_size)\n",
    "X_0_train = dataset[:train_size, :10]\n",
    "X_0_test = dataset[train_size:, :10]\n",
    "Y_0_train = dataset[:train_size, 10]\n",
    "Y_0_test = dataset[train_size:, 10]"
   ]
  },
  {
   "cell_type": "code",
   "execution_count": null,
   "metadata": {},
   "outputs": [
    {
     "name": "stdout",
     "output_type": "stream",
     "text": [
      "Train on 6258 samples, validate on 2086 samples\n",
      "Epoch 1/5\n",
      "6258/6258 [==============================] - 3s 535us/step - loss: 1.2761 - acc: 0.5818 - val_loss: 0.9920 - val_acc: 0.6438\n",
      "Epoch 2/5\n",
      "6258/6258 [==============================] - 3s 447us/step - loss: 0.9272 - acc: 0.6742 - val_loss: 0.8924 - val_acc: 0.6735\n",
      "Epoch 3/5\n",
      "2720/6258 [============>.................] - ETA: 1s - loss: 0.8147 - acc: 0.7114"
     ]
    }
   ],
   "source": [
    "model_0 = keras.Sequential([\n",
    "    keras.layers.Dense(1024, activation=tf.nn.relu),\n",
    "    keras.layers.Dense(1024, activation=tf.nn.relu),\n",
    "    keras.layers.Dense(12, activation=tf.nn.softmax)\n",
    "])\n",
    "model_0.compile(optimizer=tf.train.AdamOptimizer(), \n",
    "              loss='sparse_categorical_crossentropy',\n",
    "              metrics=['accuracy'])\n",
    "model_0_history = model_0.fit(X_0_train, Y_0_train, epochs=5, validation_split=0.25)"
   ]
  },
  {
   "cell_type": "code",
   "execution_count": null,
   "metadata": {},
   "outputs": [],
   "source": [
    "test_0_loss, test_0_acc = model_0.evaluate(X_0_test, Y_0_test)\n",
    "\n",
    "print('Acurácia do teste:', test_0_acc)"
   ]
  },
  {
   "cell_type": "code",
   "execution_count": null,
   "metadata": {},
   "outputs": [],
   "source": [
    "mean = np.mean(dataset[:, :10], axis=0)\n",
    "sd = np.std(dataset[:, :10], axis=0, dtype=np.float64)\n",
    "for i in range(10):\n",
    "    dataset = [x for x in dataset if (x[i] > mean[i] - 2 * sd[i])]\n",
    "    dataset = [x for x in dataset if (x[i] < mean[i] + 2 * sd[i])]\n",
    "    dataset = np.array(dataset)\n",
    "    print(dataset.shape)"
   ]
  },
  {
   "cell_type": "code",
   "execution_count": null,
   "metadata": {},
   "outputs": [],
   "source": [
    "fig2, ax2 = plt.subplots()\n",
    "ax2.set_title('Boxplot após 1º remoção de outliers')\n",
    "ax2.set_xlabel(\"Número dos atributos\")\n",
    "ax2.set_ylabel(\"Valores\")\n",
    "ax2.boxplot(dataset[:, :10], showfliers=True)\n",
    "plt.show()"
   ]
  },
  {
   "cell_type": "code",
   "execution_count": null,
   "metadata": {},
   "outputs": [],
   "source": [
    "train_size = (len(dataset) * 80)//100\n",
    "print(train_size)\n",
    "X_1_train = dataset[:train_size, :10]\n",
    "X_1_test = dataset[train_size:, :10]\n",
    "Y_1_train = dataset[:train_size, 10]\n",
    "Y_1_test = dataset[train_size:, 10]"
   ]
  },
  {
   "cell_type": "code",
   "execution_count": null,
   "metadata": {},
   "outputs": [],
   "source": [
    "model_1 = keras.Sequential([\n",
    "    keras.layers.Dense(1024, activation=tf.nn.relu),\n",
    "    keras.layers.Dense(1024, activation=tf.nn.relu),\n",
    "    keras.layers.Dense(12, activation=tf.nn.softmax)\n",
    "])\n",
    "model_1.compile(optimizer=tf.train.AdamOptimizer(), \n",
    "              loss='sparse_categorical_crossentropy',\n",
    "              metrics=['accuracy'])\n",
    "model_1_history = model_1.fit(X_1_train, Y_1_train, epochs=5, validation_split=0.25)"
   ]
  },
  {
   "cell_type": "code",
   "execution_count": null,
   "metadata": {},
   "outputs": [],
   "source": [
    "test_1_loss, test_1_acc = model_1.evaluate(X_1_test, Y_1_test)\n",
    "\n",
    "print('Acurácia do teste:', test_1_acc)"
   ]
  },
  {
   "cell_type": "code",
   "execution_count": null,
   "metadata": {},
   "outputs": [],
   "source": [
    "mean = np.mean(dataset[:, :10], axis=0)\n",
    "sd = np.std(dataset[:, :10], axis=0, dtype=np.float64)\n",
    "for i in range(10):\n",
    "    dataset = [x for x in dataset if (x[i] > mean[i] - 2 * sd[i])]\n",
    "    dataset = [x for x in dataset if (x[i] < mean[i] + 2 * sd[i])]\n",
    "    dataset = np.array(dataset)\n",
    "    print(dataset.shape)"
   ]
  },
  {
   "cell_type": "code",
   "execution_count": null,
   "metadata": {},
   "outputs": [],
   "source": [
    "fig3, ax3 = plt.subplots()\n",
    "ax3.set_title('Boxplot após 2º remoção de outliers')\n",
    "ax3.set_xlabel(\"Número dos atributos\")\n",
    "ax3.set_ylabel(\"Valores\")\n",
    "ax3.boxplot(dataset[:, :10], showfliers=True)\n",
    "plt.show()"
   ]
  },
  {
   "cell_type": "code",
   "execution_count": null,
   "metadata": {},
   "outputs": [],
   "source": [
    "train_size = (len(dataset) * 80)//100\n",
    "print(train_size)\n",
    "X_2_train = dataset[:train_size, :10]\n",
    "X_2_test = dataset[train_size:, :10]\n",
    "Y_2_train = dataset[:train_size, 10]\n",
    "Y_2_test = dataset[train_size:, 10]"
   ]
  },
  {
   "cell_type": "code",
   "execution_count": null,
   "metadata": {},
   "outputs": [],
   "source": [
    "model_2 = keras.Sequential([\n",
    "    keras.layers.Dense(1024, activation=tf.nn.relu),\n",
    "    keras.layers.Dense(1024, activation=tf.nn.relu),\n",
    "    keras.layers.Dense(12, activation=tf.nn.softmax)\n",
    "])\n",
    "model_2.compile(optimizer=tf.train.AdamOptimizer(), \n",
    "              loss='sparse_categorical_crossentropy',\n",
    "              metrics=['accuracy'])\n",
    "model_2_history = model_2.fit(X_2_train, Y_2_train, epochs=5, validation_split=0.25)"
   ]
  },
  {
   "cell_type": "code",
   "execution_count": null,
   "metadata": {},
   "outputs": [],
   "source": [
    "test_2_loss, test_2_acc = model_2.evaluate(X_2_test, Y_2_test)\n",
    "\n",
    "print('Acurácia do teste:', test_2_acc)"
   ]
  },
  {
   "cell_type": "code",
   "execution_count": null,
   "metadata": {},
   "outputs": [],
   "source": [
    "mean = np.mean(dataset[:, :10], axis=0)\n",
    "sd = np.std(dataset[:, :10], axis=0, dtype=np.float64)\n",
    "for i in range(10):\n",
    "    dataset = [x for x in dataset if (x[i] > mean[i] - 2 * sd[i])]\n",
    "    dataset = [x for x in dataset if (x[i] < mean[i] + 2 * sd[i])]\n",
    "    dataset = np.array(dataset)\n",
    "    print(dataset.shape)"
   ]
  },
  {
   "cell_type": "code",
   "execution_count": null,
   "metadata": {},
   "outputs": [],
   "source": [
    "fig4, ax4 = plt.subplots()\n",
    "ax4.set_title('Boxplot após 3º remoção de outliers')\n",
    "ax4.set_xlabel(\"Número dos atributos\")\n",
    "ax4.set_ylabel(\"Valores\")\n",
    "ax4.boxplot(dataset[:, :10], showfliers=True)\n",
    "plt.show()"
   ]
  },
  {
   "cell_type": "code",
   "execution_count": null,
   "metadata": {},
   "outputs": [],
   "source": [
    "train_size = (len(dataset) * 80)//100\n",
    "print(train_size)\n",
    "X_3_train = dataset[:train_size, :10]\n",
    "X_3_test = dataset[train_size:, :10]\n",
    "Y_3_train = dataset[:train_size, 10]\n",
    "Y_3_test = dataset[train_size:, 10]"
   ]
  },
  {
   "cell_type": "code",
   "execution_count": null,
   "metadata": {},
   "outputs": [],
   "source": [
    "model_3 = keras.Sequential([\n",
    "    keras.layers.Dense(1024, activation=tf.nn.relu),\n",
    "    keras.layers.Dense(1024, activation=tf.nn.relu),\n",
    "    keras.layers.Dense(12, activation=tf.nn.softmax)\n",
    "])\n",
    "model_3.compile(optimizer=tf.train.AdamOptimizer(), \n",
    "              loss='sparse_categorical_crossentropy',\n",
    "              metrics=['accuracy'])\n",
    "model_3_history = model_3.fit(X_3_train, Y_3_train, epochs=5, validation_split=0.25)"
   ]
  },
  {
   "cell_type": "code",
   "execution_count": null,
   "metadata": {},
   "outputs": [],
   "source": [
    "test_3_loss, test_3_acc = model_3.evaluate(X_3_test, Y_3_test)\n",
    "\n",
    "print('Acurácia do teste:', test_3_acc)"
   ]
  },
  {
   "cell_type": "code",
   "execution_count": null,
   "metadata": {},
   "outputs": [],
   "source": [
    "mean = np.mean(dataset[:, :10], axis=0)\n",
    "sd = np.std(dataset[:, :10], axis=0, dtype=np.float64)\n",
    "for i in range(10):\n",
    "    dataset = [x for x in dataset if (x[i] > mean[i] - 2 * sd[i])]\n",
    "    dataset = [x for x in dataset if (x[i] < mean[i] + 2 * sd[i])]\n",
    "    dataset = np.array(dataset)\n",
    "    print(dataset.shape)"
   ]
  },
  {
   "cell_type": "code",
   "execution_count": null,
   "metadata": {},
   "outputs": [],
   "source": [
    "fig5, ax5 = plt.subplots()\n",
    "ax5.set_title('Boxplot após 5º remoção de outliers')\n",
    "ax5.set_xlabel(\"Número dos atributos\")\n",
    "ax5.set_ylabel(\"Valores\")\n",
    "ax5.boxplot(dataset[:, :10], showfliers=True)\n",
    "plt.show()"
   ]
  },
  {
   "cell_type": "code",
   "execution_count": null,
   "metadata": {},
   "outputs": [],
   "source": [
    "train_size = (len(dataset) * 80)//100\n",
    "print(train_size)\n",
    "X_4_train = dataset[:train_size, :10]\n",
    "X_4_test = dataset[train_size:, :10]\n",
    "Y_4_train = dataset[:train_size, 10]\n",
    "Y_4_test = dataset[train_size:, 10]"
   ]
  },
  {
   "cell_type": "code",
   "execution_count": null,
   "metadata": {},
   "outputs": [],
   "source": [
    "model_4 = keras.Sequential([\n",
    "    keras.layers.Dense(1024, activation=tf.nn.relu),\n",
    "    keras.layers.Dense(1024, activation=tf.nn.relu),\n",
    "    keras.layers.Dense(12, activation=tf.nn.softmax)\n",
    "])\n",
    "model_4.compile(optimizer=tf.train.AdamOptimizer(), \n",
    "              loss='sparse_categorical_crossentropy',\n",
    "              metrics=['accuracy'])\n",
    "model_4_history = model_4.fit(X_4_train, Y_4_train, epochs=5, validation_split=0.25)"
   ]
  },
  {
   "cell_type": "code",
   "execution_count": null,
   "metadata": {},
   "outputs": [],
   "source": [
    "test_4_loss, test_4_acc = model_4.evaluate(X_4_test, Y_4_test)\n",
    "\n",
    "print('Acurácia do teste:', test_4_acc)"
   ]
  },
  {
   "cell_type": "code",
   "execution_count": null,
   "metadata": {},
   "outputs": [],
   "source": [
    "def plot_history(histories, key='acc'):\n",
    "    plt.figure(figsize=(16,10))\n",
    "    \n",
    "    for name, history in histories:\n",
    "        val = plt.plot(history.epoch, history.history['val_'+key],\n",
    "                       '--', label=name.title()+' Val')\n",
    "        plt.plot(history.epoch, history.history[key], color=val[0].get_color(),\n",
    "                 label=name.title()+' Train')\n",
    "\n",
    "        \n",
    "    plt.xlabel('Epochs')\n",
    "    plt.ylabel(key.replace('_',' ').title())\n",
    "    plt.legend()\n",
    "\n",
    "    plt.xlim([0,max(history.epoch)])\n",
    "\n",
    "\n",
    "plot_history([('model_0', model_0_history),\n",
    "              ('model_1', model_1_history),\n",
    "              ('model_2', model_2_history),\n",
    "              ('model_3', model_3_history),\n",
    "              ('model_4', model_4_history)])"
   ]
  },
  {
   "cell_type": "code",
   "execution_count": null,
   "metadata": {},
   "outputs": [],
   "source": [
    "plot_test = [test_0_acc, test_1_acc, test_2_acc, test_3_acc, test_4_acc]"
   ]
  },
  {
   "cell_type": "code",
   "execution_count": null,
   "metadata": {},
   "outputs": [],
   "source": [
    "fig6, ax6 = plt.subplots()\n",
    "ax6.set_title('Barras da acurácia dos testes')\n",
    "ax6.set_xlabel(\"Número dos testes\")\n",
    "ax6.set_ylabel(\"Acc\")\n",
    "ax6.bar(range(5), plot_test, color=['#1f77b4', '#ff7f0e', '#2ca02c', '#d62728', '#9467bd'])\n",
    "plt.show()"
   ]
  },
  {
   "cell_type": "code",
   "execution_count": null,
   "metadata": {},
   "outputs": [],
   "source": [
    "predictions = model_4.predict(X_4_test)"
   ]
  },
  {
   "cell_type": "code",
   "execution_count": null,
   "metadata": {},
   "outputs": [],
   "source": [
    "def plot_value_array(i, predictions_array, true_Y):\n",
    "    predictions_array, true_Y = predictions_array[i], true_Y[i]\n",
    "    plt.grid(False)\n",
    "    plt.xticks(range(12))\n",
    "    plt.yticks([])\n",
    "    thisplot = plt.bar(range(12), predictions_array, color=\"#777777\")\n",
    "    plt.ylim([0, 1]) \n",
    "    predicted_label = np.argmax(predictions_array)\n",
    "    \n",
    "    thisplot[predicted_label].set_color('red')\n",
    "    thisplot[true_Y].set_color('blue')"
   ]
  },
  {
   "cell_type": "code",
   "execution_count": null,
   "metadata": {},
   "outputs": [],
   "source": [
    "num_rows = 5\n",
    "num_cols = 3\n",
    "num_images = num_rows*num_cols\n",
    "plt.figure(figsize=(2*2*num_cols, 2*num_rows))\n",
    "for i in range(num_images):\n",
    "    plt.subplot(2*num_cols, num_rows, i+1)\n",
    "    plot_value_array(i, predictions, Y_4_test)"
   ]
  },
  {
   "cell_type": "code",
   "execution_count": null,
   "metadata": {},
   "outputs": [],
   "source": [
    "test = ([1,2,3], [4,5,6])\n",
    "test = np.array(test)\n",
    "\n",
    "part1.append(part2)\n",
    "#test = dataset[:, (0:1, 3:10)]\n",
    "print(test.shape)\n",
    "dataset = np.array(dataset)\n",
    "print(dataset.shape)"
   ]
  },
  {
   "cell_type": "code",
   "execution_count": null,
   "metadata": {},
   "outputs": [],
   "source": []
  },
  {
   "cell_type": "code",
   "execution_count": null,
   "metadata": {},
   "outputs": [],
   "source": []
  }
 ],
 "metadata": {
  "kernelspec": {
   "display_name": "Python 3",
   "language": "python",
   "name": "python3"
  },
  "language_info": {
   "codemirror_mode": {
    "name": "ipython",
    "version": 3
   },
   "file_extension": ".py",
   "mimetype": "text/x-python",
   "name": "python",
   "nbconvert_exporter": "python",
   "pygments_lexer": "ipython3",
   "version": "3.6.6"
  }
 },
 "nbformat": 4,
 "nbformat_minor": 2
}
